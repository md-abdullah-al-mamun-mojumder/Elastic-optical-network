{
  "nbformat": 4,
  "nbformat_minor": 0,
  "metadata": {
    "colab": {
      "provenance": [],
      "authorship_tag": "ABX9TyNEs9TcSbLNt7G5HwkhjGXI",
      "include_colab_link": true
    },
    "kernelspec": {
      "name": "python3",
      "display_name": "Python 3"
    },
    "language_info": {
      "name": "python"
    }
  },
  "cells": [
    {
      "cell_type": "markdown",
      "metadata": {
        "id": "view-in-github",
        "colab_type": "text"
      },
      "source": [
        "<a href=\"https://colab.research.google.com/github/md-abdullah-al-mamun-mojumder/Elastic-optical-network/blob/main/Betweenness_Centrality.ipynb\" target=\"_parent\"><img src=\"https://colab.research.google.com/assets/colab-badge.svg\" alt=\"Open In Colab\"/></a>"
      ]
    },
    {
      "cell_type": "code",
      "execution_count": 3,
      "metadata": {
        "id": "jM11l-13MVFK"
      },
      "outputs": [],
      "source": [
        "from collections import defaultdict\n",
        "import networkx as nx\n",
        "import numpy as np\n",
        "import math\n",
        "import sys\n",
        "import pandas as pd\n",
        "import pprint\n",
        "import random\n",
        "import pdb"
      ]
    },
    {
      "cell_type": "code",
      "source": [
        "from collections import defaultdict\n",
        "import networkx as nx\n",
        "import numpy as np\n",
        "\n",
        "# Initialize the graph\n",
        "G = nx.Graph()\n",
        "\n",
        "# Add edges with weights\n",
        "G.add_edge(1, 2, weight=30)\n",
        "G.add_edge(1, 3, weight=40)\n",
        "G.add_edge(2, 1, weight=30)\n",
        "G.add_edge(2, 3, weight=10)\n",
        "G.add_edge(2, 4, weight=20)\n",
        "G.add_edge(3, 1, weight=40)\n",
        "G.add_edge(3, 2, weight=10)\n",
        "G.add_edge(3, 4, weight=15)\n",
        "G.add_edge(3, 5, weight=10)\n",
        "G.add_edge(4, 2, weight=20)\n",
        "G.add_edge(4, 3, weight=15)\n",
        "G.add_edge(4, 5, weight=5)\n",
        "G.add_edge(4, 6, weight=20)\n",
        "G.add_edge(5, 3, weight=10)\n",
        "G.add_edge(5, 4, weight=5)\n",
        "G.add_edge(5, 6, weight=25)\n",
        "\n",
        "# Initialize a dictionary to store link betweenness centrality\n",
        "link_betweenness = defaultdict(int)\n",
        "\n",
        "# Compute shortest paths for all source-destination pairs\n",
        "nodes = list(G.nodes())\n",
        "for src in nodes:\n",
        "    for dst in nodes:\n",
        "        if src != dst:\n",
        "            # Get all shortest paths between src and dst\n",
        "            paths = nx.all_shortest_paths(G, source=src, target=dst, weight='weight')\n",
        "            for path in paths:\n",
        "                # Count the occurrence of each edge in the path\n",
        "                for i in range(len(path) - 1):\n",
        "                    edge = (path[i], path[i + 1])  # Directed edge\n",
        "                    reverse_edge = (path[i + 1], path[i])  # Reverse edge\n",
        "                    link_betweenness[edge] += 1\n",
        "                    link_betweenness[reverse_edge] += 1  # Add reverse direction\n",
        "\n",
        "# Convert defaultdict to a regular dictionary for display\n",
        "link_betweenness_dict = dict(link_betweenness)\n",
        "\n",
        "# Print the result\n",
        "print(\"Link Betweenness Centrality:\")\n",
        "print(link_betweenness_dict)"
      ],
      "metadata": {
        "colab": {
          "base_uri": "https://localhost:8080/"
        },
        "id": "ux9eCVXq5_Kw",
        "outputId": "4b745dcc-57af-4594-959a-53730d1e5811"
      },
      "execution_count": 4,
      "outputs": [
        {
          "output_type": "stream",
          "name": "stdout",
          "text": [
            "Link Betweenness Centrality:\n",
            "{(1, 2): 10, (2, 1): 10, (1, 3): 4, (3, 1): 4, (2, 3): 8, (3, 2): 8, (2, 4): 8, (4, 2): 8, (3, 5): 14, (5, 3): 14, (4, 6): 12, (6, 4): 12, (3, 4): 4, (4, 3): 4, (5, 4): 8, (4, 5): 8, (5, 6): 4, (6, 5): 4}\n"
          ]
        }
      ]
    }
  ]
}